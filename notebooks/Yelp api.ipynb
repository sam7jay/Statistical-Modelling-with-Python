{
 "cells": [
  {
   "cell_type": "code",
   "execution_count": 1,
   "id": "399c278e",
   "metadata": {},
   "outputs": [
    {
     "name": "stdout",
     "output_type": "stream",
     "text": [
      "The status code is 200\n",
      "Data saved to G:/Data/Python Project/restaurant_data.csv\n"
     ]
    }
   ],
   "source": [
    "import requests\n",
    "import json\n",
    "import pandas as pd\n",
    "\n",
    "business_id = 'srJ-hGeN_7H5oGT4wYz7uw'\n",
    "api_key = \"w7GSO5abCgHWgnZ-Vd21P00zNIY_nx-1ygAPL-5XngiWsGeBAPuTaMVPSB4ulo3veq0cjeEiPtM9IzErrIWwwrI3Wt5ELsCrx5qT4xDp6UgHBe83PU7LebN4MRx-ZHYx\"\n",
    "headers = {'Authorization': 'Bearer %s' % api_key}\n",
    "\n",
    "# Define the endpoint URL for the Yelp API\n",
    "endpoint = 'https://api.yelp.com/v3/businesses/search'\n",
    "params = {'term': 'Restaurants', 'location': 'New York City'}\n",
    "\n",
    "# Send GET request to the API\n",
    "response = requests.get(endpoint, params=params, headers=headers)\n",
    "\n",
    "# Check if the status code is 200 (OK)\n",
    "if response.status_code == 200:\n",
    "    print('The status code is 200')\n",
    "    restaurant_details = json.loads(response.text)\n",
    "\n",
    "    # Use json_normalize() to convert JSON to DataFrame\n",
    "    df = pd.json_normalize(restaurant_details['businesses'])\n",
    "    restaurant_data = df[['name', 'location.address1', 'review_count', 'rating']]\n",
    "\n",
    "    # Save DataFrame to CSV\n",
    "    file_path = 'G:/Data/Python Project/restaurant_data.csv'\n",
    "    restaurant_data.to_csv(file_path, index=False)\n",
    "    print('Data saved to', file_path)\n",
    "else:\n",
    "    print('Request failed with status code', response.status_code)\n"
   ]
  },
  {
   "cell_type": "code",
   "execution_count": null,
   "id": "c8a16fab",
   "metadata": {},
   "outputs": [],
   "source": []
  }
 ],
 "metadata": {
  "kernelspec": {
   "display_name": "Python 3 (ipykernel)",
   "language": "python",
   "name": "python3"
  },
  "language_info": {
   "codemirror_mode": {
    "name": "ipython",
    "version": 3
   },
   "file_extension": ".py",
   "mimetype": "text/x-python",
   "name": "python",
   "nbconvert_exporter": "python",
   "pygments_lexer": "ipython3",
   "version": "3.10.9"
  }
 },
 "nbformat": 4,
 "nbformat_minor": 5
}
