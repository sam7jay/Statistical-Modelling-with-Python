{
 "cells": [
  {
   "cell_type": "markdown",
   "id": "3ea28fba",
   "metadata": {},
   "source": [
    "# Model building"
   ]
  },
  {
   "cell_type": "code",
   "execution_count": 1,
   "id": "452fa215",
   "metadata": {},
   "outputs": [
    {
     "name": "stdout",
     "output_type": "stream",
     "text": [
      "                            OLS Regression Results                            \n",
      "==============================================================================\n",
      "Dep. Variable:        bikes_available   R-squared:                       0.176\n",
      "Model:                            OLS   Adj. R-squared:                  0.166\n",
      "Method:                 Least Squares   F-statistic:                     18.17\n",
      "Date:                Fri, 23 Jun 2023   Prob (F-statistic):           9.27e-25\n",
      "Time:                        02:02:57   Log-Likelihood:                -2195.3\n",
      "No. Observations:                 691   AIC:                             4409.\n",
      "Df Residuals:                     682   BIC:                             4449.\n",
      "Df Model:                           8                                         \n",
      "Covariance Type:            nonrobust                                         \n",
      "================================================================================\n",
      "                   coef    std err          t      P>|t|      [0.025      0.975]\n",
      "--------------------------------------------------------------------------------\n",
      "const         3442.6150    558.051      6.169      0.000    2346.911    4538.319\n",
      "index           -0.0019      0.001     -1.569      0.117      -0.004       0.000\n",
      "latitude       -75.2273      8.189     -9.186      0.000     -91.306     -59.148\n",
      "longitude        1.8628      4.126      0.451      0.652      -6.238       9.964\n",
      "distance_x      -0.0349      0.007     -5.222      0.000      -0.048      -0.022\n",
      "rating          -1.1225      0.839     -1.338      0.181      -2.770       0.525\n",
      "review_count     0.0171      0.014      1.232      0.218      -0.010       0.044\n",
      "price           -3.3788      3.196     -1.057      0.291      -9.654       2.897\n",
      "distance_y   -5.715e-06      0.003     -0.002      0.998      -0.005       0.005\n",
      "==============================================================================\n",
      "Omnibus:                      151.709   Durbin-Watson:                   1.769\n",
      "Prob(Omnibus):                  0.000   Jarque-Bera (JB):              342.740\n",
      "Skew:                           1.172   Prob(JB):                     3.76e-75\n",
      "Kurtosis:                       5.532   Cond. No.                     1.83e+06\n",
      "==============================================================================\n",
      "\n",
      "Notes:\n",
      "[1] Standard Errors assume that the covariance matrix of the errors is correctly specified.\n",
      "[2] The condition number is large, 1.83e+06. This might indicate that there are\n",
      "strong multicollinearity or other numerical problems.\n"
     ]
    }
   ],
   "source": [
    "import sqlite3\n",
    "import pandas as pd\n",
    "import numpy as np\n",
    "import statsmodels.api as sm\n",
    "\n",
    "# Function to load data from an SQLite database\n",
    "def load_data(database_path, query):\n",
    "    conn = sqlite3.connect(database_path)\n",
    "    df = pd.read_sql_query(query, conn)\n",
    "    conn.close()\n",
    "    return df\n",
    "\n",
    "# Function to preprocess data\n",
    "def preprocess_data(df):\n",
    "    df = df.drop([\"fsq_id\", \"category_id\", \"location_postcode\", \"location_region\", \"location_timezone\",\n",
    "                  'name_x', \"name_y\", \"name\", \"chains\", \"location_country\", \"location_cross_street\",\n",
    "                  \"location_formatted_address\", \"location_locality\", \"category_name\", \"category\"], axis=1)\n",
    "    \n",
    "    df.price = df.price.map({'$': 0, '$$': 1, '$$$': 2, '$$$$': 3})\n",
    "    df = df.fillna(0)\n",
    "\n",
    "    return df\n",
    "\n",
    "# Function to train and evaluate a model\n",
    "def train_and_evaluate(X, y):\n",
    "    X = sm.add_constant(X)\n",
    "    model = sm.OLS(y, X).fit()\n",
    "    print(model.summary())\n",
    "\n",
    "database_path = 'G:/Data/Python Project/database.sqlite'\n",
    "query = \"SELECT * FROM merged_data\"\n",
    "\n",
    "# Load data\n",
    "df = load_data(database_path, query)\n",
    "\n",
    "# Preprocess data\n",
    "df = preprocess_data(df)\n",
    "\n",
    "# Split the data into features and target\n",
    "X = df.drop(\"bikes_available\", axis=1)\n",
    "y = df[\"bikes_available\"]\n",
    "\n",
    "# Train and evaluate the model\n",
    "train_and_evaluate(X, y)\n"
   ]
  },
  {
   "cell_type": "markdown",
   "id": "18b7e98d",
   "metadata": {},
   "source": [
    "## RESULTS: the model is not good fit because R-square is too low which show a low correlation."
   ]
  },
  {
   "cell_type": "code",
   "execution_count": null,
   "id": "601a52b1",
   "metadata": {},
   "outputs": [],
   "source": []
  }
 ],
 "metadata": {
  "kernelspec": {
   "display_name": "Python 3 (ipykernel)",
   "language": "python",
   "name": "python3"
  },
  "language_info": {
   "codemirror_mode": {
    "name": "ipython",
    "version": 3
   },
   "file_extension": ".py",
   "mimetype": "text/x-python",
   "name": "python",
   "nbconvert_exporter": "python",
   "pygments_lexer": "ipython3",
   "version": "3.10.9"
  }
 },
 "nbformat": 4,
 "nbformat_minor": 5
}
