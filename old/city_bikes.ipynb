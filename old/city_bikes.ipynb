{
 "cells": [
  {
   "cell_type": "code",
   "execution_count": 16,
   "id": "61a03ce9",
   "metadata": {
    "scrolled": true
   },
   "outputs": [
    {
     "name": "stdout",
     "output_type": "stream",
     "text": [
      "Requirement already satisfied: requests in c:\\users\\user\\conda\\lib\\site-packages (2.28.1)Note: you may need to restart the kernel to use updated packages.\n",
      "\n",
      "Requirement already satisfied: pandas in c:\\users\\user\\conda\\lib\\site-packages (1.5.3)\n",
      "Requirement already satisfied: urllib3<1.27,>=1.21.1 in c:\\users\\user\\conda\\lib\\site-packages (from requests) (1.26.14)\n",
      "Requirement already satisfied: charset-normalizer<3,>=2 in c:\\users\\user\\conda\\lib\\site-packages (from requests) (2.0.4)\n",
      "Requirement already satisfied: certifi>=2017.4.17 in c:\\users\\user\\conda\\lib\\site-packages (from requests) (2022.12.7)\n",
      "Requirement already satisfied: idna<4,>=2.5 in c:\\users\\user\\conda\\lib\\site-packages (from requests) (3.4)\n",
      "Requirement already satisfied: pytz>=2020.1 in c:\\users\\user\\conda\\lib\\site-packages (from pandas) (2022.7)\n",
      "Requirement already satisfied: numpy>=1.21.0 in c:\\users\\user\\conda\\lib\\site-packages (from pandas) (1.23.5)\n",
      "Requirement already satisfied: python-dateutil>=2.8.1 in c:\\users\\user\\conda\\lib\\site-packages (from pandas) (2.8.2)\n",
      "Requirement already satisfied: six>=1.5 in c:\\users\\user\\conda\\lib\\site-packages (from python-dateutil>=2.8.1->pandas) (1.16.0)\n"
     ]
    }
   ],
   "source": [
    "pip install requests pandas"
   ]
  },
  {
   "cell_type": "code",
   "execution_count": 17,
   "id": "0e6be1ed",
   "metadata": {},
   "outputs": [],
   "source": [
    "import requests\n",
    "import pandas as pd\n",
    "from IPython.display import JSON"
   ]
  },
  {
   "cell_type": "code",
   "execution_count": 22,
   "id": "698556b1",
   "metadata": {},
   "outputs": [
    {
     "name": "stdout",
     "output_type": "stream",
     "text": [
      "                                         name   latitude  longitude  \\\n",
      "0                   Queen St E / Woodward Ave  43.665269 -79.319796   \n",
      "1                 Primrose Ave / Davenport Rd  43.671420 -79.445947   \n",
      "2                   Queen St. E / Rhodes Ave.  43.666224 -79.317693   \n",
      "3                        Bond St / Queen St E  43.653236 -79.376716   \n",
      "4                    Church St / Alexander St  43.663722 -79.380288   \n",
      "..                                        ...        ...        ...   \n",
      "658          Lynn William St / Pirandello St   43.639125 -79.414232   \n",
      "659   Bay St / Queens Quay W (Ferry Terminal)  43.640978 -79.376785   \n",
      "660                     College St / Huron St  43.658148 -79.398167   \n",
      "661                  Ossington Ave / Bruce St  43.645702 -79.419332   \n",
      "662  Northern Dancer Blvd / Lake Shore Blvd E  43.663162 -79.309765   \n",
      "\n",
      "     bikes_available  \n",
      "0                  6  \n",
      "1                  5  \n",
      "2                  3  \n",
      "3                  2  \n",
      "4                  4  \n",
      "..               ...  \n",
      "658               13  \n",
      "659                6  \n",
      "660               18  \n",
      "661                9  \n",
      "662                1  \n",
      "\n",
      "[663 rows x 4 columns]\n"
     ]
    }
   ],
   "source": [
    "def fetch_citybike_data(city):\n",
    "    base_url = \"http://api.citybik.es/v2/networks/\"\n",
    "    url = base_url + city\n",
    "    \n",
    "    response = requests.get(url)\n",
    "    data = response.json()\n",
    "    \n",
    "    return data\n",
    "\n",
    "def parse_station_data(data):\n",
    "    stations = data['network']['stations']\n",
    "    station_data = []\n",
    "    \n",
    "    for station in stations:\n",
    "        station_data.append({\n",
    "            \"name\": station[\"name\"],\n",
    "            \"latitude\": station[\"latitude\"],\n",
    "            \"longitude\": station[\"longitude\"],\n",
    "            \"bikes_available\": station[\"free_bikes\"]\n",
    "        })\n",
    "    \n",
    "    return station_data\n",
    "\n",
    "def main():\n",
    "    city = \"bixi-toronto\"\n",
    "    data = fetch_citybike_data(city)\n",
    "    station_data = parse_station_data(data)\n",
    "    df = pd.DataFrame(station_data)\n",
    "    df.to_csv('citybike.csv', index=False)\n",
    "\n",
    "if __name__ == '__main__':\n",
    "    main()\n",
    "    \n",
    "    print(df)\n",
    "\n",
    "# Store results to CSV for following steps\n",
    "df.to_csv('G:/Data/Python Project/citybike.csv') "
   ]
  },
  {
   "cell_type": "code",
   "execution_count": null,
   "id": "8c7223c1",
   "metadata": {},
   "outputs": [],
   "source": []
  }
 ],
 "metadata": {
  "kernelspec": {
   "display_name": "Python 3 (ipykernel)",
   "language": "python",
   "name": "python3"
  },
  "language_info": {
   "codemirror_mode": {
    "name": "ipython",
    "version": 3
   },
   "file_extension": ".py",
   "mimetype": "text/x-python",
   "name": "python",
   "nbconvert_exporter": "python",
   "pygments_lexer": "ipython3",
   "version": "3.10.9"
  }
 },
 "nbformat": 4,
 "nbformat_minor": 5
}
